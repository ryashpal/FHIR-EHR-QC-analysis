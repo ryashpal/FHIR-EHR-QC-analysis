{
 "cells": [
  {
   "cell_type": "markdown",
   "metadata": {},
   "source": [
    "# Load Predictions to the FHIR server"
   ]
  },
  {
   "cell_type": "markdown",
   "metadata": {},
   "source": [
    "## Get DB connection"
   ]
  },
  {
   "cell_type": "code",
   "execution_count": 1,
   "metadata": {},
   "outputs": [],
   "source": [
    "def getConnection():\n",
    "\n",
    "    import psycopg2\n",
    "\n",
    "    # Connect to postgres with a copy of the MIMIC-IV database\n",
    "    con = psycopg2.connect(\n",
    "        dbname='mimic4',\n",
    "        user='postgres',\n",
    "        host='superbugai.erc.monash.edu',\n",
    "        port=5434,\n",
    "        password='mysecretpassword'\n",
    "        )\n",
    "\n",
    "    return con"
   ]
  },
  {
   "cell_type": "markdown",
   "metadata": {},
   "source": [
    "## Read the data matrix"
   ]
  },
  {
   "cell_type": "code",
   "execution_count": 2,
   "metadata": {},
   "outputs": [
    {
     "name": "stderr",
     "output_type": "stream",
     "text": [
      "/tmp/ipykernel_444831/1215489904.py:5: UserWarning: pandas only supports SQLAlchemy connectable (engine/connection) or database string URI or sqlite3 DBAPI2 connection. Other DBAPI2 objects are not tested. Please consider using SQLAlchemy.\n",
      "  dataDf = pd.read_sql(\"select * from omop_test_20220817.data_matrix\", con=con)\n"
     ]
    }
   ],
   "source": [
    "import pandas as pd\n",
    "\n",
    "\n",
    "con = getConnection()\n",
    "dataDf = pd.read_sql(\"select * from omop_test_20220817.data_matrix\", con=con)"
   ]
  },
  {
   "cell_type": "markdown",
   "metadata": {},
   "source": [
    "## Push mortality prediction results to FHIR"
   ]
  },
  {
   "cell_type": "code",
   "execution_count": 9,
   "metadata": {},
   "outputs": [],
   "source": [
    "def convertIdFromOmopToFhir(omopId):\n",
    "    omopId = 'm' + str(omopId)[1:] if str(omopId).startswith('-') else 'p' + str(omopId)[1:]\n",
    "    return omopId"
   ]
  },
  {
   "cell_type": "code",
   "execution_count": 23,
   "metadata": {},
   "outputs": [],
   "source": [
    "template = {\n",
    "    \"resourceType\" : \"RiskAssessment\",\n",
    "    \"status\" : \"final\",\n",
    "    \"subject\" : {\n",
    "      \"reference\" : \"\"\n",
    "    },\n",
    "    \"occurrenceDateTime\" : \"\",\n",
    "    \"prediction\" : {\n",
    "        \"outcome\" : {\n",
    "            \"text\" : \"7 day Mortality Prediction\"\n",
    "        },\n",
    "        \"probabilityDecimal\" : \"\"\n",
    "    },\n",
    "    \"note\" : {\n",
    "        \"text\" : \"\"\n",
    "    }\n",
    "}\n"
   ]
  },
  {
   "cell_type": "code",
   "execution_count": 41,
   "metadata": {},
   "outputs": [
    {
     "name": "stderr",
     "output_type": "stream",
     "text": [
      "100%|██████████| 2483/2483 [9:01:02<00:00, 13.07s/it]  \n"
     ]
    }
   ],
   "source": [
    "import json\n",
    "import requests\n",
    "\n",
    "from tqdm import tqdm\n",
    "from datetime import datetime\n",
    "\n",
    "\n",
    "for person_id in tqdm(dataDf.person_id):\n",
    "    for i in [7, 14, 21, 30, 60, 90, 120]:\n",
    "        response = requests.post(\n",
    "            url='http://localhost:5001/predict_mortality', json={\"id\":person_id, \"targetStart\":0, \"targetEnd\":i, \"windowEnd\":24}\n",
    "            )\n",
    "        score = json.loads(response.text)['score']\n",
    "        if score:\n",
    "            template['prediction']['probabilityDecimal'] = round(float(score), 4)\n",
    "            template['subject']['reference'] = 'Patient/' + convertIdFromOmopToFhir(person_id)\n",
    "            template['occurrenceDateTime'] = datetime.now().strftime(\"%Y-%m-%dT%H:%M:%S\")\n",
    "            template['note']['text'] = \"Model: XGBoost Ensemble, Vitals Before: 0, Vitals After: 72, Labs Before: 0, Labs After: 72, Data Window: (0, 24), Target Start: 0, Target End: \" + str(i)\n",
    "            requests.post(url='http://superbugai.erc.monash.edu:8082/fhir/RiskAssessment/', json=template, headers={\"Content-Type\": \"application/fhir+json\"})\n"
   ]
  }
 ],
 "metadata": {
  "kernelspec": {
   "display_name": ".venv",
   "language": "python",
   "name": "python3"
  },
  "language_info": {
   "codemirror_mode": {
    "name": "ipython",
    "version": 3
   },
   "file_extension": ".py",
   "mimetype": "text/x-python",
   "name": "python",
   "nbconvert_exporter": "python",
   "pygments_lexer": "ipython3",
   "version": "3.8.10"
  }
 },
 "nbformat": 4,
 "nbformat_minor": 2
}
